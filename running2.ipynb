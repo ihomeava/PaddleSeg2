{
 "cells": [
  {
   "cell_type": "code",
   "execution_count": 2,
   "id": "missing-resident",
   "metadata": {},
   "outputs": [
    {
     "name": "stdout",
     "output_type": "stream",
     "text": [
      "Creating train05.txt...\n",
      "Creating val05.txt...\n",
      "Creating test05.txt...\n"
     ]
    }
   ],
   "source": [
    "#d:\n",
    "#cd Deep_Learning\\liangyy\\PaddleSeg\n",
    "#conda activate paddlepaddle\n",
    "\n",
    "%run tools/split_dataset_list.py data/voc/VOCdevkit/VOCleather JPEGImages05 SegmentationClass05 --split 0.8 0.1 0.1 --format bmp png\n",
    "\n",
    "#%run tools/labelme2seg.py data/voc/VOCdevkit/VOCleather/JPEGImages05\n",
    "\n",
    "#python train.py --config configs/unet/unet_pascalvoc_1024x512_160k.yml --do_eval --use_vdl --save_interval 500 --save_dir output/unet_pascalvoc_1024x512_160k --resume_model output/unet_pascalvoc_1024x512_160k/iter_500\n",
    "#python train.py --config configs/unet/unet_vocleather_512x512_280.yml --do_eval --use_vdl --save_interval 500 --save_dir output/unet_vocleather_512x512_280 --resume_model output/unet_vocleather_512x512_280/iter_500\n",
    "#python train.py --config configs/attention_unet/attention_unet_vocleather_512x512_280.yml --do_eval --use_vdl --save_interval 50 --save_dir output/attention_unet_vocleather_512x512_280_202111272058 --resume_model output/attention_unet_vocleather_512x512_280_202111272058/iter_50\n",
    "#python train.py --config configs/unet_3plus/unet_3plus_vocleather_512x512_280.yml --do_eval --use_vdl --save_interval 500 --save_dir output/unet_3plus_vocleather_512x512_280_202111232208 --resume_model output/unet_3plus_vocleather_512x512_280_202111232208/iter_50\n",
    "\n",
    "#visualdl --port 8040 --logdir output/unet_pascalvoc_1024x512_160k/\n",
    "#visualdl --port 8041 --logdir D:\\Deep_Learning\\liangyy\\PaddleSeg\\output\\attention_unet_vocleather_512x512_280_202111271000\n",
    "\n",
    "#python val.py --config configs/unet/unet_pascalvoc_1024x512_160k.yml --model_path output/unet_pascalvoc_1024x512_160k/iter_1500/model.pdparams\n",
    "\n",
    "#%run predict.py --config configs/unet/unet_pascalvoc_1024x512_160k.yml --model_path output/unet_pascalvoc_1024x512_160k/iter_2000/model.pdparams --image_path data/voc/VOCdevkit/VOCleather/test --save_dir output/unet_pascalvoc_1024x512_160k/result\n",
    "#%run predict.py --config configs/unet/unet_vocleather_512x512_280.yml --model_path output/unet_vocleather_512x512_280/iter_300/model.pdparams --image_path data/voc/VOCdevkit/VOCleather/test --save_dir output/unet_vocleather_512x512_280/result\n",
    "#%run predict.py --config configs/attention_unet/attention_unet_vocleather_512x512_280.yml --model_path output/attention_unet_vocleather_512x512_280_202111271338/best_model/model.pdparams --image_path data/voc/VOCdevkit/VOCleather/test05 --save_dir output/attention_unet_vocleather_512x512_280_202111271338/result\n",
    "#%run predict.py --config configs/unet_3plus/unet_3plus_vocleather_512x512_280.yml --model_path output/unet_3plus_vocleather_512x512_280_202111232208/best_model/model.pdparams --image_path data/voc/VOCdevkit/VOCleather/test05 --save_dir output/unet_3plus_vocleather_512x512_280_202111232208/result\n",
    "\n",
    "#%run export.py --config configs/unet/unet_pascalvoc_1024x512_160k.yml --model_path output/unet_pascalvoc_1024x512_160k/iter_10000/model.pdparams --save_dir output/unet_pascalvoc_1024x512_160k\n",
    "#%run export.py --config configs/attention_unet/attention_unet_vocleather_512x512_280.yml --model_path output/attention_unet_vocleather_512x512_280_202111252307/best_model/model.pdparams --save_dir output/attention_unet_vocleather_512x512_280_202111252307/deploy\n",
    "#%run export.py --config configs/unet_3plus/unet_3plus_vocleather_512x512_280.yml --model_path output/unet_3plus_vocleather_512x512_280_202111232208/best_model/model.pdparams --save_dir output/unet_3plus_vocleather_512x512_280_202111232208/deploy\n",
    "\n",
    "#python deploy/python/infer.py --device cpu --cpu_threads 2 --enable_mkldnn False --config output/attention_unet_vocleather_512x512_280/deploy.yaml --image_path data/voc/VOCdevkit/VOCleather/test/Image_20211105141003930.bmp --save_dir output/attention_unet_vocleather_512x512_280\n",
    "#python deploy/python/infer.py --config output/attention_unet_vocleather_512x512_280_202111252307/deploy/deploy.yaml --image_path data/voc/VOCdevkit/VOCleather/JPEGImages021/Image_20211105141003930.bmp --save_dir output/attention_unet_vocleather_512x512_280_202111252307/result2\n",
    "#python deploy/python/infer.py --device cpu --cpu_threads 2 --enable_mkldnn False --config output/deploy.yaml --image_path data/voc/VOCdevkit/VOCleather/test/Image_20211105141003930.bmp --save_dir output"
   ]
  },
  {
   "cell_type": "code",
   "execution_count": 1,
   "id": "aggregate-colonial",
   "metadata": {},
   "outputs": [
    {
     "name": "stdout",
     "output_type": "stream",
     "text": [
      "文件名为:  D:\\Deep_Learning\\liangyy\\data\\voc\\VOCdevkit\\VOCleather\\test05.txt\n",
      "读取的数据为: Image_20211105151412795.bmp\n",
      "读取的数据为: Image_20211105150139008.bmp\n",
      "读取的数据为: Image_20211105141514854.bmp\n",
      "读取的数据为: 疤点011.bmp\n",
      "读取的数据为: 折痕夹子印.bmp\n",
      "读取的数据为: Image_20211105145904836.bmp\n",
      "读取的数据为: Image_20211105145241568.bmp\n",
      "读取的数据为: 烂点002.bmp\n",
      "读取的数据为: Image_20211105150034323.bmp\n",
      "读取的数据为: 烂点016.bmp\n",
      "读取的数据为: 折痕017.bmp\n",
      "读取的数据为: Image_20211105134815738.bmp\n",
      "读取的数据为: Image_20211105151116193.bmp\n",
      "读取的数据为: 牙签007.bmp\n",
      "读取的数据为: Image_20211105111946320.bmp\n",
      "读取的数据为: Image_20211105150020883.bmp\n",
      "读取的数据为: Image_20211105142214326.bmp\n",
      "读取的数据为: Image_20211105151124004.bmp\n",
      "读取的数据为: Image_20211105145446155.bmp\n",
      "读取的数据为: 折痕013.bmp\n",
      "读取的数据为: 标记005.bmp\n",
      "读取的数据为: 烂点006.bmp\n",
      "读取的数据为: Image_20211105140906414.bmp\n",
      "读取的数据为: Image_20211105145731721.bmp\n",
      "读取的数据为: 疤点002.bmp\n",
      "读取的数据为: Image_20211105151350350.bmp\n",
      "读取的数据为: 生长纹005.bmp\n",
      "读取的数据为: 折痕011.bmp\n",
      "读取的数据为: Image_20211105151914969.bmp\n",
      "读取的数据为: Image_20211105141359962.bmp\n",
      "读取的数据为: Image_20211105142317777.bmp\n",
      "读取的数据为: 折痕002.bmp\n",
      "读取的数据为: Image_20211105151501087.bmp\n",
      "读取的数据为: 疤点010.bmp\n",
      "读取的数据为: Image_20211105135920070.bmp\n",
      "读取的数据为: 牙签015.bmp\n",
      "读取的数据为: 牙签010.bmp\n",
      "读取的数据为: 折痕004.bmp\n",
      "读取的数据为: Image_20211105141308321.bmp\n",
      "读取的数据为: Image_20211105145923143.bmp\n"
     ]
    }
   ],
   "source": [
    "#!/usr/bin/python\n",
    "# -*- coding: UTF-8 -*-\n",
    "import os\n",
    "\n",
    "pwd = 'D:\\\\Deep_Learning\\\\liangyy\\\\data\\\\voc\\\\VOCdevkit\\\\VOCleather'          #<--------------------------------\n",
    "# 打开文件\n",
    "fo = open(pwd+\"\\\\\"+\"test05.txt\", \"r\", encoding='gbk')                         #<--------------------------------\n",
    "print(\"文件名为: \", fo.name)\n",
    " \n",
    "for line in fo.readlines():                          #依次读取每行  \n",
    "    line = line.strip().split()[0].split('\\\\')[1]    #去掉每行头尾空白         #<--------------------------------\n",
    "    print(\"读取的数据为: %s\" % line)\n",
    "    \n",
    "    os.system('copy %s\\\\JPEGImages05\\\\%s %s\\\\test05\\\\%s' % (pwd,line,pwd,line)) #<--------------------------------\n",
    " \n",
    "# 关闭文件\n",
    "fo.close()"
   ]
  },
  {
   "cell_type": "code",
   "execution_count": null,
   "id": "christian-assault",
   "metadata": {},
   "outputs": [],
   "source": []
  }
 ],
 "metadata": {
  "kernelspec": {
   "display_name": "paddle-cpu",
   "language": "python",
   "name": "paddle-cpu"
  },
  "language_info": {
   "codemirror_mode": {
    "name": "ipython",
    "version": 3
   },
   "file_extension": ".py",
   "mimetype": "text/x-python",
   "name": "python",
   "nbconvert_exporter": "python",
   "pygments_lexer": "ipython3",
   "version": "3.6.13"
  }
 },
 "nbformat": 4,
 "nbformat_minor": 5
}
