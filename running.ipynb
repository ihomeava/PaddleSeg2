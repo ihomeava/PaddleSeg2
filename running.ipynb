{
 "cells": [
  {
   "cell_type": "code",
   "execution_count": 3,
   "id": "a1f13556-679a-4e79-bd14-34dadeeb1d61",
   "metadata": {
    "tags": []
   },
   "outputs": [
    {
     "name": "stdout",
     "output_type": "stream",
     "text": [
      "2021-11-23 23:08:00 [INFO]\tUse CPU\n",
      "2021-11-23 23:08:12 [INFO]\tFinish\n"
     ]
    }
   ],
   "source": [
    "#%run deploy/python/infer.py --device cpu --cpu_threads 2 --enable_mkldnn False --config output/bisenetv2_demo_model/deploy.yaml --image_path data/cityscapes --save_dir output\n",
    "%run deploy/python/infer.py --device cpu --cpu_threads 2 --enable_mkldnn False --config output/attention_unet_vocleather_512x512_280/deploy.yaml --image_path data/vocleather/Image_20211105141003930.bmp --save_dir output"
   ]
  },
  {
   "cell_type": "code",
   "execution_count": null,
   "id": "191106ea-a6cd-4477-9bb9-356e0ad2d429",
   "metadata": {},
   "outputs": [],
   "source": []
  }
 ],
 "metadata": {
  "kernelspec": {
   "display_name": "paddlepaddle",
   "language": "python",
   "name": "paddlepaddle"
  },
  "language_info": {
   "codemirror_mode": {
    "name": "ipython",
    "version": 3
   },
   "file_extension": ".py",
   "mimetype": "text/x-python",
   "name": "python",
   "nbconvert_exporter": "python",
   "pygments_lexer": "ipython3",
   "version": "3.6.13"
  }
 },
 "nbformat": 4,
 "nbformat_minor": 5
}
