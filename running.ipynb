{
 "cells": [
  {
   "cell_type": "code",
   "execution_count": 1,
   "id": "a1f13556-679a-4e79-bd14-34dadeeb1d61",
   "metadata": {
    "tags": []
   },
   "outputs": [
    {
     "name": "stdout",
     "output_type": "stream",
     "text": [
      "2021-11-24 10:54:13 [INFO]\tUse CPU\n",
      "2021-11-24 10:54:26 [INFO]\t(1, 512, 512)\n",
      "2021-11-24 10:54:26 [INFO]\tImage_20211105145758314.bmp\n",
      "2021-11-24 10:54:26 [INFO]\tFinish\n"
     ]
    }
   ],
   "source": [
    "#%run deploy/python/infer.py --device cpu --cpu_threads 2 --enable_mkldnn False --config output/bisenetv2_demo_model/deploy.yaml --image_path data/test_list2.txt --batch_size 1 --save_dir output/result\n",
    "#%run deploy/python/infer.py --device cpu --cpu_threads 2 --enable_mkldnn False --config output/attention_unet_vocleather_512x512_280/deploy.yaml --image_path data/test_list1.txt --batch_size 56 --save_dir output/result\n",
    "%run deploy/python/infer.py --device cpu --cpu_threads 2 --enable_mkldnn False --config output/attention_unet_vocleather_512x512_280/deploy.yaml --image_path data/vocleather/Image_20211105145758314.bmp --save_dir output/result"
   ]
  },
  {
   "cell_type": "code",
   "execution_count": 1,
   "id": "a33ab0e4-10f9-4c6b-a299-bd929a382956",
   "metadata": {},
   "outputs": [
    {
     "name": "stdout",
     "output_type": "stream",
     "text": [
      "(2, 3)\n",
      "2\n"
     ]
    }
   ],
   "source": [
    "import numpy as np\n",
    "\n",
    "a2d = np.array([[1,2,3],\n",
    "               [1,2,3]])\n",
    "print(a2d.shape)\n",
    "print(len(a2d.shape))"
   ]
  },
  {
   "cell_type": "code",
   "execution_count": null,
   "id": "ea14e739-c55a-4107-9d1c-4a48c27acd04",
   "metadata": {},
   "outputs": [],
   "source": []
  }
 ],
 "metadata": {
  "kernelspec": {
   "display_name": "paddle-cpu",
   "language": "python",
   "name": "paddle-cpu"
  },
  "language_info": {
   "codemirror_mode": {
    "name": "ipython",
    "version": 3
   },
   "file_extension": ".py",
   "mimetype": "text/x-python",
   "name": "python",
   "nbconvert_exporter": "python",
   "pygments_lexer": "ipython3",
   "version": "3.6.13"
  }
 },
 "nbformat": 4,
 "nbformat_minor": 5
}
